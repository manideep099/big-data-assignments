{
  "nbformat": 4,
  "nbformat_minor": 0,
  "metadata": {
    "colab": {
      "provenance": [],
      "include_colab_link": true
    },
    "kernelspec": {
      "name": "python3",
      "display_name": "Python 3"
    },
    "language_info": {
      "name": "python"
    }
  },
  "cells": [
    {
      "cell_type": "markdown",
      "metadata": {
        "id": "view-in-github",
        "colab_type": "text"
      },
      "source": [
        "<a href=\"https://colab.research.google.com/github/manideep099/big-data-assignments/blob/main/pothuraju_manideep_icp_4.ipynb\" target=\"_parent\"><img src=\"https://colab.research.google.com/assets/colab-badge.svg\" alt=\"Open In Colab\"/></a>"
      ]
    },
    {
      "cell_type": "markdown",
      "source": [
        "1. Creating a DataFrame from a given dictionary"
      ],
      "metadata": {
        "id": "sUn6atRRL-Ex"
      }
    },
    {
      "cell_type": "code",
      "source": [
        "import pandas as pd\n",
        "import numpy as np\n",
        "\n",
        "data = {\n",
        "    'ID': np.arange(1, 1000001),\n",
        "    'Value': np.random.rand(1000000),\n",
        "    'Category': np.random.choice(['A', 'B', 'C', 'D'], size=1000000)\n",
        "}\n",
        "\n",
        "df = pd.DataFrame(data)"
      ],
      "metadata": {
        "id": "ESUI-RrCL_3b"
      },
      "execution_count": null,
      "outputs": []
    },
    {
      "cell_type": "markdown",
      "source": [
        "2. Output first 10 rows."
      ],
      "metadata": {
        "id": "8bw7llMTMULo"
      }
    },
    {
      "cell_type": "code",
      "source": [
        "print(\"First 10 rows of the DataFrame:\")\n",
        "print(df.head(10))"
      ],
      "metadata": {
        "colab": {
          "base_uri": "https://localhost:8080/"
        },
        "id": "s44iUKMvMkn9",
        "outputId": "94403f7a-0846-4f80-c5c4-141684ac17e8"
      },
      "execution_count": null,
      "outputs": [
        {
          "output_type": "stream",
          "name": "stdout",
          "text": [
            "First 10 rows of the DataFrame:\n",
            "   ID     Value Category\n",
            "0   1  0.832791        A\n",
            "1   2  0.834312        A\n",
            "2   3  0.068903        B\n",
            "3   4  0.514160        A\n",
            "4   5  0.432378        B\n",
            "5   6  0.165786        A\n",
            "6   7  0.349777        D\n",
            "7   8  0.146742        A\n",
            "8   9  0.464507        B\n",
            "9  10  0.114176        D\n"
          ]
        }
      ]
    },
    {
      "cell_type": "markdown",
      "source": [
        "3. Access a column “Value”"
      ],
      "metadata": {
        "id": "3UdZdknrMWyj"
      }
    },
    {
      "cell_type": "code",
      "source": [
        "print(\"Accessing the 'Value' column:\")\n",
        "print(df['Value'].head())"
      ],
      "metadata": {
        "colab": {
          "base_uri": "https://localhost:8080/"
        },
        "id": "zp3PFy0CMoRx",
        "outputId": "0c0af4e5-39a4-4d14-d2db-a13a78564ed8"
      },
      "execution_count": null,
      "outputs": [
        {
          "output_type": "stream",
          "name": "stdout",
          "text": [
            "Accessing the 'Value' column:\n",
            "0    0.832791\n",
            "1    0.834312\n",
            "2    0.068903\n",
            "3    0.514160\n",
            "4    0.432378\n",
            "Name: Value, dtype: float64\n"
          ]
        }
      ]
    },
    {
      "cell_type": "markdown",
      "source": [
        "4. Modify columns in the DataFrame with names (ID number, Random value, Choice) and show output\n",
        "for first five rows."
      ],
      "metadata": {
        "id": "AQa-s9flMaz9"
      }
    },
    {
      "cell_type": "code",
      "source": [
        "df.columns = ['ID number', 'Random value', 'Choice']\n",
        "print(\"Modified column names (first 5 rows):\")\n",
        "print(df.head(5))"
      ],
      "metadata": {
        "colab": {
          "base_uri": "https://localhost:8080/"
        },
        "id": "_l10FCINMrgb",
        "outputId": "485d5825-6119-417b-b10f-bcb616cc10ed"
      },
      "execution_count": null,
      "outputs": [
        {
          "output_type": "stream",
          "name": "stdout",
          "text": [
            "Modified column names (first 5 rows):\n",
            "   ID number  Random value Choice\n",
            "0          1      0.832791      A\n",
            "1          2      0.834312      A\n",
            "2          3      0.068903      B\n",
            "3          4      0.514160      A\n",
            "4          5      0.432378      B\n"
          ]
        }
      ]
    },
    {
      "cell_type": "markdown",
      "source": [
        "5. Run the below given code by removing bugs and errors."
      ],
      "metadata": {
        "id": "EtuHyIucMeCO"
      }
    },
    {
      "cell_type": "code",
      "source": [
        "import pandas as pd\n",
        "\n",
        "pd.set_option('display.max_rows', None)\n",
        "# pd.set_option('display.max_columns', None)  # Optional\n",
        "\n",
        "student_data = pd.DataFrame({\n",
        "    'school_code': ['s001', 's002', 's003', 's004', 's001', 's002'],\n",
        "    'class': ['VII', 'VI', 'VII', 'VI', 'VII', 'VI'],\n",
        "    'name': ['Alberto Franco', 'Gino Mcneill', 'Ryan Parkes', 'Eesha Hinton', 'Gino Mcneill', 'David Parkes'],\n",
        "    'date_Of_Birth': ['15/05/2002', '17/05/2002', '16/02/1999', '25/09/1998', '11/05/2002', '15/09/1997'],\n",
        "    'age': [12, 12, 13, 13, 14, 12],\n",
        "    'height': [173, 192, 186, 167, 151, 159],\n",
        "    'weight': [35, 32, 33, 30, 31, 32],\n",
        "    'address': ['Street 1', 'Street 2', 'Street 3', 'Street 4', 'Street 5', 'Street 6']\n",
        "    #colan missing\n",
        "}, index=['S1', 'S2', 'S3', 'S4', 'S5', 'S6'])\n",
        "\n",
        "print(\"Original DataFrame:\")\n",
        "print(student_data)\n",
        "\n",
        "print(\"\\nSplit the data on school_code and class:\")\n",
        "result = student_data.groupby(['school_code', 'class'])\n",
        "\n",
        "#student_data\n",
        "\n",
        "\n",
        "for name, group in result:\n",
        "    print(\"\\nGroup:\")\n",
        "    print(name)\n",
        "    print(group)"
      ],
      "metadata": {
        "colab": {
          "base_uri": "https://localhost:8080/"
        },
        "collapsed": true,
        "id": "SQA-yO4uMtMs",
        "outputId": "ef184cc3-b657-4df1-fc01-8df2edeb7998"
      },
      "execution_count": null,
      "outputs": [
        {
          "output_type": "stream",
          "name": "stdout",
          "text": [
            "Original DataFrame:\n",
            "   school_code class            name date_Of_Birth  age  height  weight  \\\n",
            "S1        s001   VII  Alberto Franco    15/05/2002   12     173      35   \n",
            "S2        s002    VI    Gino Mcneill    17/05/2002   12     192      32   \n",
            "S3        s003   VII     Ryan Parkes    16/02/1999   13     186      33   \n",
            "S4        s004    VI    Eesha Hinton    25/09/1998   13     167      30   \n",
            "S5        s001   VII    Gino Mcneill    11/05/2002   14     151      31   \n",
            "S6        s002    VI    David Parkes    15/09/1997   12     159      32   \n",
            "\n",
            "     address  \n",
            "S1  Street 1  \n",
            "S2  Street 2  \n",
            "S3  Street 3  \n",
            "S4  Street 4  \n",
            "S5  Street 5  \n",
            "S6  Street 6  \n",
            "\n",
            "Split the data on school_code and class:\n",
            "\n",
            "Group:\n",
            "('s001', 'VII')\n",
            "   school_code class            name date_Of_Birth  age  height  weight  \\\n",
            "S1        s001   VII  Alberto Franco    15/05/2002   12     173      35   \n",
            "S5        s001   VII    Gino Mcneill    11/05/2002   14     151      31   \n",
            "\n",
            "     address  \n",
            "S1  Street 1  \n",
            "S5  Street 5  \n",
            "\n",
            "Group:\n",
            "('s002', 'VI')\n",
            "   school_code class          name date_Of_Birth  age  height  weight  \\\n",
            "S2        s002    VI  Gino Mcneill    17/05/2002   12     192      32   \n",
            "S6        s002    VI  David Parkes    15/09/1997   12     159      32   \n",
            "\n",
            "     address  \n",
            "S2  Street 2  \n",
            "S6  Street 6  \n",
            "\n",
            "Group:\n",
            "('s003', 'VII')\n",
            "   school_code class         name date_Of_Birth  age  height  weight   address\n",
            "S3        s003   VII  Ryan Parkes    16/02/1999   13     186      33  Street 3\n",
            "\n",
            "Group:\n",
            "('s004', 'VI')\n",
            "   school_code class          name date_Of_Birth  age  height  weight  \\\n",
            "S4        s004    VI  Eesha Hinton    25/09/1998   13     167      30   \n",
            "\n",
            "     address  \n",
            "S4  Street 4  \n"
          ]
        }
      ]
    },
    {
      "cell_type": "code",
      "source": [
        "from google.colab import files\n",
        "uploaded = files.upload()\n"
      ],
      "metadata": {
        "colab": {
          "base_uri": "https://localhost:8080/",
          "height": 73
        },
        "id": "2_biK2THPKvd",
        "outputId": "6eaa072d-cfb6-4efe-f60d-ab3c30b56a44"
      },
      "execution_count": null,
      "outputs": [
        {
          "output_type": "display_data",
          "data": {
            "text/plain": [
              "<IPython.core.display.HTML object>"
            ],
            "text/html": [
              "\n",
              "     <input type=\"file\" id=\"files-e3aa3bab-f14d-481e-82cf-c317e050dd42\" name=\"files[]\" multiple disabled\n",
              "        style=\"border:none\" />\n",
              "     <output id=\"result-e3aa3bab-f14d-481e-82cf-c317e050dd42\">\n",
              "      Upload widget is only available when the cell has been executed in the\n",
              "      current browser session. Please rerun this cell to enable.\n",
              "      </output>\n",
              "      <script>// Copyright 2017 Google LLC\n",
              "//\n",
              "// Licensed under the Apache License, Version 2.0 (the \"License\");\n",
              "// you may not use this file except in compliance with the License.\n",
              "// You may obtain a copy of the License at\n",
              "//\n",
              "//      http://www.apache.org/licenses/LICENSE-2.0\n",
              "//\n",
              "// Unless required by applicable law or agreed to in writing, software\n",
              "// distributed under the License is distributed on an \"AS IS\" BASIS,\n",
              "// WITHOUT WARRANTIES OR CONDITIONS OF ANY KIND, either express or implied.\n",
              "// See the License for the specific language governing permissions and\n",
              "// limitations under the License.\n",
              "\n",
              "/**\n",
              " * @fileoverview Helpers for google.colab Python module.\n",
              " */\n",
              "(function(scope) {\n",
              "function span(text, styleAttributes = {}) {\n",
              "  const element = document.createElement('span');\n",
              "  element.textContent = text;\n",
              "  for (const key of Object.keys(styleAttributes)) {\n",
              "    element.style[key] = styleAttributes[key];\n",
              "  }\n",
              "  return element;\n",
              "}\n",
              "\n",
              "// Max number of bytes which will be uploaded at a time.\n",
              "const MAX_PAYLOAD_SIZE = 100 * 1024;\n",
              "\n",
              "function _uploadFiles(inputId, outputId) {\n",
              "  const steps = uploadFilesStep(inputId, outputId);\n",
              "  const outputElement = document.getElementById(outputId);\n",
              "  // Cache steps on the outputElement to make it available for the next call\n",
              "  // to uploadFilesContinue from Python.\n",
              "  outputElement.steps = steps;\n",
              "\n",
              "  return _uploadFilesContinue(outputId);\n",
              "}\n",
              "\n",
              "// This is roughly an async generator (not supported in the browser yet),\n",
              "// where there are multiple asynchronous steps and the Python side is going\n",
              "// to poll for completion of each step.\n",
              "// This uses a Promise to block the python side on completion of each step,\n",
              "// then passes the result of the previous step as the input to the next step.\n",
              "function _uploadFilesContinue(outputId) {\n",
              "  const outputElement = document.getElementById(outputId);\n",
              "  const steps = outputElement.steps;\n",
              "\n",
              "  const next = steps.next(outputElement.lastPromiseValue);\n",
              "  return Promise.resolve(next.value.promise).then((value) => {\n",
              "    // Cache the last promise value to make it available to the next\n",
              "    // step of the generator.\n",
              "    outputElement.lastPromiseValue = value;\n",
              "    return next.value.response;\n",
              "  });\n",
              "}\n",
              "\n",
              "/**\n",
              " * Generator function which is called between each async step of the upload\n",
              " * process.\n",
              " * @param {string} inputId Element ID of the input file picker element.\n",
              " * @param {string} outputId Element ID of the output display.\n",
              " * @return {!Iterable<!Object>} Iterable of next steps.\n",
              " */\n",
              "function* uploadFilesStep(inputId, outputId) {\n",
              "  const inputElement = document.getElementById(inputId);\n",
              "  inputElement.disabled = false;\n",
              "\n",
              "  const outputElement = document.getElementById(outputId);\n",
              "  outputElement.innerHTML = '';\n",
              "\n",
              "  const pickedPromise = new Promise((resolve) => {\n",
              "    inputElement.addEventListener('change', (e) => {\n",
              "      resolve(e.target.files);\n",
              "    });\n",
              "  });\n",
              "\n",
              "  const cancel = document.createElement('button');\n",
              "  inputElement.parentElement.appendChild(cancel);\n",
              "  cancel.textContent = 'Cancel upload';\n",
              "  const cancelPromise = new Promise((resolve) => {\n",
              "    cancel.onclick = () => {\n",
              "      resolve(null);\n",
              "    };\n",
              "  });\n",
              "\n",
              "  // Wait for the user to pick the files.\n",
              "  const files = yield {\n",
              "    promise: Promise.race([pickedPromise, cancelPromise]),\n",
              "    response: {\n",
              "      action: 'starting',\n",
              "    }\n",
              "  };\n",
              "\n",
              "  cancel.remove();\n",
              "\n",
              "  // Disable the input element since further picks are not allowed.\n",
              "  inputElement.disabled = true;\n",
              "\n",
              "  if (!files) {\n",
              "    return {\n",
              "      response: {\n",
              "        action: 'complete',\n",
              "      }\n",
              "    };\n",
              "  }\n",
              "\n",
              "  for (const file of files) {\n",
              "    const li = document.createElement('li');\n",
              "    li.append(span(file.name, {fontWeight: 'bold'}));\n",
              "    li.append(span(\n",
              "        `(${file.type || 'n/a'}) - ${file.size} bytes, ` +\n",
              "        `last modified: ${\n",
              "            file.lastModifiedDate ? file.lastModifiedDate.toLocaleDateString() :\n",
              "                                    'n/a'} - `));\n",
              "    const percent = span('0% done');\n",
              "    li.appendChild(percent);\n",
              "\n",
              "    outputElement.appendChild(li);\n",
              "\n",
              "    const fileDataPromise = new Promise((resolve) => {\n",
              "      const reader = new FileReader();\n",
              "      reader.onload = (e) => {\n",
              "        resolve(e.target.result);\n",
              "      };\n",
              "      reader.readAsArrayBuffer(file);\n",
              "    });\n",
              "    // Wait for the data to be ready.\n",
              "    let fileData = yield {\n",
              "      promise: fileDataPromise,\n",
              "      response: {\n",
              "        action: 'continue',\n",
              "      }\n",
              "    };\n",
              "\n",
              "    // Use a chunked sending to avoid message size limits. See b/62115660.\n",
              "    let position = 0;\n",
              "    do {\n",
              "      const length = Math.min(fileData.byteLength - position, MAX_PAYLOAD_SIZE);\n",
              "      const chunk = new Uint8Array(fileData, position, length);\n",
              "      position += length;\n",
              "\n",
              "      const base64 = btoa(String.fromCharCode.apply(null, chunk));\n",
              "      yield {\n",
              "        response: {\n",
              "          action: 'append',\n",
              "          file: file.name,\n",
              "          data: base64,\n",
              "        },\n",
              "      };\n",
              "\n",
              "      let percentDone = fileData.byteLength === 0 ?\n",
              "          100 :\n",
              "          Math.round((position / fileData.byteLength) * 100);\n",
              "      percent.textContent = `${percentDone}% done`;\n",
              "\n",
              "    } while (position < fileData.byteLength);\n",
              "  }\n",
              "\n",
              "  // All done.\n",
              "  yield {\n",
              "    response: {\n",
              "      action: 'complete',\n",
              "    }\n",
              "  };\n",
              "}\n",
              "\n",
              "scope.google = scope.google || {};\n",
              "scope.google.colab = scope.google.colab || {};\n",
              "scope.google.colab._files = {\n",
              "  _uploadFiles,\n",
              "  _uploadFilesContinue,\n",
              "};\n",
              "})(self);\n",
              "</script> "
            ]
          },
          "metadata": {}
        },
        {
          "output_type": "stream",
          "name": "stdout",
          "text": [
            "Saving data.csv to data.csv\n"
          ]
        }
      ]
    },
    {
      "cell_type": "markdown",
      "source": [
        "6. Read the provided CSV file ‘data.csv’."
      ],
      "metadata": {
        "id": "-pTKuIllNkSv"
      }
    },
    {
      "cell_type": "code",
      "source": [
        "import pandas as pd\n",
        "\n",
        "# Example: Replace with actual local path or download from the link\n",
        "df = pd.read_csv(\"data.csv\")\n",
        "print(\"Data loaded successfully.\")\n"
      ],
      "metadata": {
        "colab": {
          "base_uri": "https://localhost:8080/"
        },
        "id": "cY-UJBgCN2OP",
        "outputId": "eb9751b3-feb7-431b-b550-65bc1227f770"
      },
      "execution_count": null,
      "outputs": [
        {
          "output_type": "stream",
          "name": "stdout",
          "text": [
            "Data loaded successfully.\n"
          ]
        }
      ]
    },
    {
      "cell_type": "markdown",
      "source": [
        "7. Show the basic statistical description about the data."
      ],
      "metadata": {
        "id": "_ANsbWrnNmFq"
      }
    },
    {
      "cell_type": "code",
      "source": [
        "print(\"Basic statistical description:\")\n",
        "print(df.describe())"
      ],
      "metadata": {
        "colab": {
          "base_uri": "https://localhost:8080/"
        },
        "id": "OZjNWUsuN9fx",
        "outputId": "2b9b9244-b02d-4f8d-db24-8cac4a6df761"
      },
      "execution_count": null,
      "outputs": [
        {
          "output_type": "stream",
          "name": "stdout",
          "text": [
            "Basic statistical description:\n",
            "         Duration       Pulse    Maxpulse     Calories\n",
            "count  169.000000  169.000000  169.000000   164.000000\n",
            "mean    63.846154  107.461538  134.047337   375.790244\n",
            "std     42.299949   14.510259   16.450434   266.379919\n",
            "min     15.000000   80.000000  100.000000    50.300000\n",
            "25%     45.000000  100.000000  124.000000   250.925000\n",
            "50%     60.000000  105.000000  131.000000   318.600000\n",
            "75%     60.000000  111.000000  141.000000   387.600000\n",
            "max    300.000000  159.000000  184.000000  1860.400000\n"
          ]
        }
      ]
    },
    {
      "cell_type": "markdown",
      "source": [
        "8. Check if the data has null values.\n",
        "a. Replace the null values with the mean"
      ],
      "metadata": {
        "id": "eBpXVLj8NnsE"
      }
    },
    {
      "cell_type": "code",
      "source": [
        "print(\"Null value check:\")\n",
        "print(df.isnull().sum())\n",
        "df.fillna(df.mean(numeric_only=True), inplace=True)\n",
        "print(\"Null values replaced with column means.\")\n"
      ],
      "metadata": {
        "colab": {
          "base_uri": "https://localhost:8080/"
        },
        "id": "HDCoIUBeN_g3",
        "outputId": "4c4a55bb-1163-46f7-8727-3986cf21d7bf"
      },
      "execution_count": null,
      "outputs": [
        {
          "output_type": "stream",
          "name": "stdout",
          "text": [
            "Null value check:\n",
            "Duration    0\n",
            "Pulse       0\n",
            "Maxpulse    0\n",
            "Calories    5\n",
            "dtype: int64\n",
            "Null values replaced with column means.\n"
          ]
        }
      ]
    },
    {
      "cell_type": "markdown",
      "source": [
        "9. Select at least two columns and aggregate the data using: min, max, count, mean."
      ],
      "metadata": {
        "id": "IeNGEgqcNpLH"
      }
    },
    {
      "cell_type": "code",
      "source": [
        "aggregation = df[['Duration', 'Calories']].agg(['min', 'max', 'count', 'mean'])\n",
        "print(\"Aggregated statistics (min, max, count, mean):\")\n",
        "print(aggregation)\n"
      ],
      "metadata": {
        "colab": {
          "base_uri": "https://localhost:8080/"
        },
        "id": "qHzV9nykOFQC",
        "outputId": "dcaf5b93-269d-4a4b-c935-7de79dee7851"
      },
      "execution_count": null,
      "outputs": [
        {
          "output_type": "stream",
          "name": "stdout",
          "text": [
            "Aggregated statistics (min, max, count, mean):\n",
            "         Duration     Calories\n",
            "min     15.000000    50.300000\n",
            "max    300.000000  1860.400000\n",
            "count  169.000000   169.000000\n",
            "mean    63.846154   375.790244\n"
          ]
        }
      ]
    },
    {
      "cell_type": "markdown",
      "source": [
        "10. Filter the dataframe to select the rows with calories values between 500 and 1000."
      ],
      "metadata": {
        "id": "YMw5309UNqiZ"
      }
    },
    {
      "cell_type": "code",
      "source": [
        "calorie_range = df[(df['Calories'] >= 500) & (df['Calories'] <= 1000)]\n",
        "print(\"Rows with Calories between 500 and 1000:\")\n",
        "print(calorie_range)\n"
      ],
      "metadata": {
        "colab": {
          "base_uri": "https://localhost:8080/"
        },
        "id": "G81UW6I0OG10",
        "outputId": "eae335f6-3fe2-4bc2-e2c0-1f4bad5ad94b"
      },
      "execution_count": null,
      "outputs": [
        {
          "output_type": "stream",
          "name": "stdout",
          "text": [
            "Rows with Calories between 500 and 1000:\n",
            "     Duration  Pulse  Maxpulse  Calories\n",
            "51         80    123       146     643.1\n",
            "62        160    109       135     853.0\n",
            "65        180     90       130     800.4\n",
            "66        150    105       135     873.4\n",
            "67        150    107       130     816.0\n",
            "72         90    100       127     700.0\n",
            "73        150     97       127     953.2\n",
            "75         90     98       125     563.2\n",
            "78        120    100       130     500.4\n",
            "83        120    100       130     500.0\n",
            "90        180    101       127     600.1\n",
            "99         90     93       124     604.1\n",
            "101        90     90       110     500.0\n",
            "102        90     90       100     500.0\n",
            "103        90     90       100     500.4\n",
            "106       180     90       120     800.3\n",
            "108        90     90       120     500.3\n"
          ]
        }
      ]
    },
    {
      "cell_type": "markdown",
      "source": [
        "11. Filter the dataframe to select the rows with calories values > 500 and pulse < 100."
      ],
      "metadata": {
        "id": "9YGSY6V8NsDM"
      }
    },
    {
      "cell_type": "code",
      "source": [
        "filtered = df[(df['Calories'] > 500) & (df['Pulse'] < 100)]\n",
        "print(\"Rows with Calories > 500 and Pulse < 100:\")\n",
        "print(filtered)\n"
      ],
      "metadata": {
        "colab": {
          "base_uri": "https://localhost:8080/"
        },
        "id": "66hX-DaGOIZ8",
        "outputId": "5d03408b-f04e-4b57-9911-9d12819c3315"
      },
      "execution_count": null,
      "outputs": [
        {
          "output_type": "stream",
          "name": "stdout",
          "text": [
            "Rows with Calories > 500 and Pulse < 100:\n",
            "     Duration  Pulse  Maxpulse  Calories\n",
            "65        180     90       130     800.4\n",
            "70        150     97       129    1115.0\n",
            "73        150     97       127     953.2\n",
            "75         90     98       125     563.2\n",
            "99         90     93       124     604.1\n",
            "103        90     90       100     500.4\n",
            "106       180     90       120     800.3\n",
            "108        90     90       120     500.3\n"
          ]
        }
      ]
    },
    {
      "cell_type": "markdown",
      "source": [
        "12. Create a new “df_modified” dataframe that contains all the columns from df except for “Maxpulse”."
      ],
      "metadata": {
        "id": "S4twg9WzNuAV"
      }
    },
    {
      "cell_type": "code",
      "source": [
        "df_modified = df.drop(columns=['Maxpulse'])\n",
        "print(\"New dataframe without Maxpulse:\")\n",
        "print(df_modified.head())\n"
      ],
      "metadata": {
        "colab": {
          "base_uri": "https://localhost:8080/"
        },
        "id": "dvmCPglAOJ8n",
        "outputId": "d408f23c-b166-459b-f370-af9a8c47e556"
      },
      "execution_count": null,
      "outputs": [
        {
          "output_type": "stream",
          "name": "stdout",
          "text": [
            "New dataframe without Maxpulse:\n",
            "   Duration  Pulse  Calories\n",
            "0        60    110     409.1\n",
            "1        60    117     479.0\n",
            "2        60    103     340.0\n",
            "3        45    109     282.4\n",
            "4        45    117     406.0\n"
          ]
        }
      ]
    },
    {
      "cell_type": "markdown",
      "source": [
        "13. Delete the “Maxpulse” column from the main df dataframe"
      ],
      "metadata": {
        "id": "HI5o-dFHNvzx"
      }
    },
    {
      "cell_type": "code",
      "source": [
        "df.drop(columns=['Maxpulse'], inplace=True)\n",
        "print(\"Maxpulse column removed from main dataframe.\")\n"
      ],
      "metadata": {
        "colab": {
          "base_uri": "https://localhost:8080/"
        },
        "id": "EiBaE5DAOL2W",
        "outputId": "2cdb3a2a-0bf1-428b-a9b5-8d67fb0e1083"
      },
      "execution_count": null,
      "outputs": [
        {
          "output_type": "stream",
          "name": "stdout",
          "text": [
            "Maxpulse column removed from main dataframe.\n"
          ]
        }
      ]
    },
    {
      "cell_type": "markdown",
      "source": [
        "14. Convert the datatype of Calories column to int datatype."
      ],
      "metadata": {
        "id": "5qyvFNs1NxHn"
      }
    },
    {
      "cell_type": "code",
      "source": [
        "df['Calories'] = df['Calories'].astype(int)\n",
        "print(\"Calories column converted to integer.\")\n"
      ],
      "metadata": {
        "colab": {
          "base_uri": "https://localhost:8080/"
        },
        "id": "iwvA1rWmONfR",
        "outputId": "a5643b38-cf71-4894-e1a4-48448c1a708a"
      },
      "execution_count": null,
      "outputs": [
        {
          "output_type": "stream",
          "name": "stdout",
          "text": [
            "Calories column converted to integer.\n"
          ]
        }
      ]
    },
    {
      "cell_type": "markdown",
      "source": [
        "15. Using pandas create a scatter plot for the two columns (Duration and Calories)."
      ],
      "metadata": {
        "id": "BnXsafgSNy62"
      }
    },
    {
      "cell_type": "code",
      "source": [
        "import matplotlib.pyplot as plt\n",
        "\n",
        "plt.scatter(df['Duration'], df['Calories'], color='blue')\n",
        "plt.title('Duration vs Calories Burned')\n",
        "plt.xlabel('Duration')\n",
        "plt.ylabel('Calories')\n",
        "plt.grid(True)\n",
        "plt.show()\n"
      ],
      "metadata": {
        "colab": {
          "base_uri": "https://localhost:8080/",
          "height": 472
        },
        "id": "yztqD21EOO8t",
        "outputId": "74a7d489-653b-422f-9cee-233375acae11"
      },
      "execution_count": null,
      "outputs": [
        {
          "output_type": "display_data",
          "data": {
            "text/plain": [
              "<Figure size 640x480 with 1 Axes>"
            ],
            "image/png": "[encoded data removed]"
          },
          "metadata": {}
        }
      ]
    }
  ]
}