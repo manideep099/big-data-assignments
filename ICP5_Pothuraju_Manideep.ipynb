{
  "nbformat": 4,
  "nbformat_minor": 0,
  "metadata": {
    "colab": {
      "provenance": [],
      "include_colab_link": true
    },
    "kernelspec": {
      "name": "python3",
      "display_name": "Python 3"
    },
    "language_info": {
      "name": "python"
    }
  },
  "cells": [
    {
      "cell_type": "markdown",
      "metadata": {
        "id": "view-in-github",
        "colab_type": "text"
      },
      "source": [
        "<a href=\"https://colab.research.google.com/github/manideep099/big-data-assignments/blob/main/ICP5_Pothuraju_Manideep.ipynb\" target=\"_parent\"><img src=\"https://colab.research.google.com/assets/colab-badge.svg\" alt=\"Open In Colab\"/></a>"
      ]
    },
    {
      "cell_type": "code",
      "execution_count": null,
      "metadata": {
        "colab": {
          "base_uri": "https://localhost:8080/"
        },
        "id": "floPhJYsKQd_",
        "outputId": "4c0df298-855e-4155-f8bc-d2916583b8e2"
      },
      "outputs": [
        {
          "output_type": "stream",
          "name": "stdout",
          "text": [
            "Best parameters found: {'classifier__C': 0.1, 'classifier__kernel': 'linear', 'pca__n_components': 3}\n",
            "Best cross-validation score: 0.96\n",
            "Test set score: 1.00\n"
          ]
        }
      ],
      "source": [
        "from sklearn.datasets import load_iris\n",
        "from sklearn.model_selection import GridSearchCV, train_test_split\n",
        "from sklearn.preprocessing import StandardScaler\n",
        "from sklearn.decomposition import PCA\n",
        "from sklearn.svm import SVC\n",
        "from sklearn.pipeline import Pipeline\n",
        "\n",
        "# 1. Load dataset\n",
        "X, y = load_iris(return_X_y=True)\n",
        "X_train, X_test, y_train, y_test = train_test_split(X, y, test_size=0.2, random_state=42)\n",
        "\n",
        "# 2. Create pipeline\n",
        "pipe = Pipeline([\n",
        "    ('scaler', StandardScaler()),\n",
        "    ('pca', PCA()),\n",
        "    ('classifier', SVC())\n",
        "])\n",
        "\n",
        "# 3. Define parameter grid\n",
        "param_grid = {\n",
        "    'pca__n_components': [2, 3],\n",
        "    'classifier__C': [0.1, 1, 10],\n",
        "    'classifier__kernel': ['linear', 'rbf']\n",
        "}\n",
        "\n",
        "# 4. GridSearchCV\n",
        "grid = GridSearchCV(pipe, param_grid)\n",
        "grid.fit(X_train, y_train)\n",
        "\n",
        "# 5. Results\n",
        "print(\"Best parameters found:\", grid.best_params_)\n",
        "print(\"Best cross-validation score: {:.2f}\".format(grid.best_score_))\n",
        "print(\"Test set score: {:.2f}\".format(grid.score(X_test, y_test)))\n"
      ]
    },
    {
      "cell_type": "code",
      "source": [
        "from sklearn.datasets import load_iris\n",
        "from sklearn.model_selection import GridSearchCV, train_test_split\n",
        "from sklearn.preprocessing import StandardScaler\n",
        "from sklearn.decomposition import PCA\n",
        "from sklearn.svm import SVC\n",
        "from sklearn.pipeline import Pipeline\n",
        "\n",
        "# Load dataset\n",
        "X, y = load_iris(return_X_y=True)\n",
        "X_train, X_test, y_train, y_test = train_test_split(X, y, test_size=0.2, random_state=42)\n",
        "\n",
        "# Create pipeline\n",
        "pipe = Pipeline([\n",
        "    ('scaler', StandardScaler()),\n",
        "    ('pca', PCA()),\n",
        "    ('classifier', SVC())\n",
        "])\n",
        "\n",
        "# Parameter grid\n",
        "param_grid = {\n",
        "    'pca__n_components': [2, 3],\n",
        "    'classifier__C': [0.1, 1, 10],\n",
        "    'classifier__kernel': ['linear', 'rbf']\n",
        "}\n",
        "\n",
        "# Test with 3-fold, 5-fold, and 7-fold\n",
        "for cv_val in [3, 5, 7]:\n",
        "    print(f\"\\n=== CV={cv_val} ===\")\n",
        "    grid = GridSearchCV(pipe, param_grid, cv=cv_val)\n",
        "    grid.fit(X_train, y_train)\n",
        "    print(\"Best parameters:\", grid.best_params_)\n",
        "    print(\"Best CV score: {:.2f}\".format(grid.best_score_))\n",
        "    print(\"Test set score: {:.2f}\".format(grid.score(X_test, y_test)))"
      ],
      "metadata": {
        "colab": {
          "base_uri": "https://localhost:8080/"
        },
        "id": "cI6dQNgwKvnG",
        "outputId": "abd0627b-298d-42d6-8c31-6f0e64b81dd3"
      },
      "execution_count": null,
      "outputs": [
        {
          "output_type": "stream",
          "name": "stdout",
          "text": [
            "\n",
            "=== CV=3 ===\n",
            "Best parameters: {'classifier__C': 0.1, 'classifier__kernel': 'linear', 'pca__n_components': 3}\n",
            "Best CV score: 0.97\n",
            "Test set score: 1.00\n",
            "\n",
            "=== CV=5 ===\n",
            "Best parameters: {'classifier__C': 0.1, 'classifier__kernel': 'linear', 'pca__n_components': 3}\n",
            "Best CV score: 0.96\n",
            "Test set score: 1.00\n",
            "\n",
            "=== CV=7 ===\n",
            "Best parameters: {'classifier__C': 0.1, 'classifier__kernel': 'linear', 'pca__n_components': 3}\n",
            "Best CV score: 0.97\n",
            "Test set score: 1.00\n"
          ]
        }
      ]
    },
    {
      "cell_type": "code",
      "source": [
        "from sklearn.ensemble import RandomForestClassifier\n",
        "\n",
        "pipe_rf = Pipeline([\n",
        "    ('scaler', StandardScaler()),\n",
        "    ('pca', PCA()),\n",
        "    ('classifier', RandomForestClassifier())\n",
        "])\n",
        "\n",
        "param_grid_rf = {\n",
        "    'pca__n_components': [2, 3],\n",
        "    'classifier__n_estimators': [50, 100, 200],\n",
        "    'classifier__max_depth': [None, 5, 10]\n",
        "}\n",
        "\n",
        "grid_rf = GridSearchCV(pipe_rf, param_grid_rf, cv=5)\n",
        "grid_rf.fit(X_train, y_train)\n",
        "print(\"RandomForest Best Params:\", grid_rf.best_params_)"
      ],
      "metadata": {
        "colab": {
          "base_uri": "https://localhost:8080/"
        },
        "id": "SEhN4i8QK2vK",
        "outputId": "c6c4458e-1024-4a78-82e9-3414ac321e97"
      },
      "execution_count": null,
      "outputs": [
        {
          "output_type": "stream",
          "name": "stdout",
          "text": [
            "RandomForest Best Params: {'classifier__max_depth': 5, 'classifier__n_estimators': 50, 'pca__n_components': 3}\n"
          ]
        }
      ]
    },
    {
      "cell_type": "code",
      "source": [
        "from sklearn.linear_model import LogisticRegression\n",
        "\n",
        "pipe_lr = Pipeline([\n",
        "    ('scaler', StandardScaler()),\n",
        "    ('pca', PCA()),\n",
        "    ('classifier', LogisticRegression())\n",
        "])\n",
        "\n",
        "param_grid_lr = {\n",
        "    'pca__n_components': [2, 3],\n",
        "    'classifier__C': [0.01, 0.1, 1, 10],\n",
        "    'classifier__penalty': ['l2'],\n",
        "    'classifier__solver': ['lbfgs']\n",
        "}\n",
        "\n",
        "grid_lr = GridSearchCV(pipe_lr, param_grid_lr, cv=5)\n",
        "grid_lr.fit(X_train, y_train)\n",
        "print(\"LogisticRegression Best Params:\", grid_lr.best_params_)"
      ],
      "metadata": {
        "colab": {
          "base_uri": "https://localhost:8080/"
        },
        "id": "AZFzGL3fK-Yf",
        "outputId": "aef5e421-3286-4d19-e548-77c0e6241b60"
      },
      "execution_count": null,
      "outputs": [
        {
          "output_type": "stream",
          "name": "stdout",
          "text": [
            "LogisticRegression Best Params: {'classifier__C': 1, 'classifier__penalty': 'l2', 'classifier__solver': 'lbfgs', 'pca__n_components': 3}\n"
          ]
        }
      ]
    },
    {
      "cell_type": "code",
      "source": [
        "from sklearn.linear_model import Perceptron\n",
        "\n",
        "pipe_perceptron = Pipeline([\n",
        "    ('scaler', StandardScaler()),\n",
        "    ('pca', PCA()),\n",
        "    ('classifier', Perceptron())\n",
        "])\n",
        "\n",
        "param_grid_perceptron = {\n",
        "    'pca__n_components': [2, 3],\n",
        "    'classifier__penalty': [None, 'l2', 'l1', 'elasticnet'],\n",
        "    'classifier__alpha': [0.0001, 0.001, 0.01]\n",
        "}\n",
        "\n",
        "grid_perceptron = GridSearchCV(pipe_perceptron, param_grid_perceptron, cv=5)\n",
        "grid_perceptron.fit(X_train, y_train)\n",
        "print(\"Perceptron Best Params:\", grid_perceptron.best_params_)"
      ],
      "metadata": {
        "colab": {
          "base_uri": "https://localhost:8080/"
        },
        "id": "xT2cRwt6LMEL",
        "outputId": "016ba9eb-5c7d-49bb-c52a-0382cd8df0c1"
      },
      "execution_count": null,
      "outputs": [
        {
          "output_type": "stream",
          "name": "stdout",
          "text": [
            "Perceptron Best Params: {'classifier__alpha': 0.0001, 'classifier__penalty': 'l1', 'pca__n_components': 3}\n"
          ]
        }
      ]
    },
    {
      "cell_type": "code",
      "source": [
        "from sklearn.neighbors import KNeighborsClassifier\n",
        "\n",
        "pipe_knn = Pipeline([\n",
        "    ('scaler', StandardScaler()),\n",
        "    ('pca', PCA()),\n",
        "    ('classifier', KNeighborsClassifier())\n",
        "])\n",
        "\n",
        "param_grid_knn = {\n",
        "    'pca__n_components': [2, 3],\n",
        "    'classifier__n_neighbors': [3, 5, 7],\n",
        "    'classifier__weights': ['uniform', 'distance']\n",
        "}\n",
        "\n",
        "grid_knn = GridSearchCV(pipe_knn, param_grid_knn, cv=5)\n",
        "grid_knn.fit(X_train, y_train)\n",
        "print(\"KNN Best Params:\", grid_knn.best_params_)"
      ],
      "metadata": {
        "colab": {
          "base_uri": "https://localhost:8080/"
        },
        "id": "TdYsN79DLNtK",
        "outputId": "07df894e-5169-4f8e-a414-9b8107c15b35"
      },
      "execution_count": null,
      "outputs": [
        {
          "output_type": "stream",
          "name": "stdout",
          "text": [
            "KNN Best Params: {'classifier__n_neighbors': 3, 'classifier__weights': 'uniform', 'pca__n_components': 3}\n"
          ]
        }
      ]
    },
    {
      "cell_type": "code",
      "source": [
        "from sklearn.model_selection import RandomizedSearchCV\n",
        "\n",
        "# Using RandomizedSearchCV with RandomForest\n",
        "random_search_rf = RandomizedSearchCV(pipe_rf, param_grid_rf, n_iter=5, cv=5, random_state=42)\n",
        "random_search_rf.fit(X_train, y_train)\n",
        "print(\"RandomizedSearch Best Params (RF):\", random_search_rf.best_params_)"
      ],
      "metadata": {
        "colab": {
          "base_uri": "https://localhost:8080/"
        },
        "id": "nxzgSLu-LV5Y",
        "outputId": "befacf43-cfc5-481b-fffa-c85362e13901"
      },
      "execution_count": null,
      "outputs": [
        {
          "output_type": "stream",
          "name": "stderr",
          "text": [
            "/usr/local/lib/python3.11/dist-packages/sklearn/model_selection/_split.py:805: UserWarning: The least populated class in y has only 1 members, which is less than n_splits=5.\n",
            "  warnings.warn(\n"
          ]
        },
        {
          "output_type": "stream",
          "name": "stdout",
          "text": [
            "RandomizedSearch Best Params (RF): {'pca__n_components': 2, 'classifier__n_estimators': 100, 'classifier__max_depth': 5}\n"
          ]
        }
      ]
    },
    {
      "cell_type": "code",
      "source": [
        "import pandas as pd\n",
        "\n",
        "df = pd.read_csv('pd_speech_features.csv')\n"
      ],
      "metadata": {
        "id": "jYMtBzh98cZ1"
      },
      "execution_count": null,
      "outputs": []
    },
    {
      "cell_type": "code",
      "source": [
        "# Read custom dataset\n",
        "import pandas as pd\n",
        "\n",
        "df = pd.read_csv('pd_speech_features.csv')\n",
        "X = df.drop('numPulses', axis=1)  # Replace target_column with actual target\n",
        "print(\"Successfully Replaced target_columns\")\n",
        "y = df['numPulses']\n",
        "\n",
        "# Train/test split\n",
        "X_train, X_test, y_train, y_test = train_test_split(X, y, test_size=0.2, random_state=42)"
      ],
      "metadata": {
        "id": "vqJlJDo5MzYh",
        "colab": {
          "base_uri": "https://localhost:8080/"
        },
        "outputId": "5dd02c5f-378d-4072-9bc7-ed5fb9b6d9ef"
      },
      "execution_count": null,
      "outputs": [
        {
          "output_type": "stream",
          "name": "stdout",
          "text": [
            "Successfully Replaced target_columns\n"
          ]
        }
      ]
    }
  ]
}